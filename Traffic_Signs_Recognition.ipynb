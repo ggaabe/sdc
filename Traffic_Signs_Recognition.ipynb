{
 "cells": [
  {
   "cell_type": "markdown",
   "metadata": {},
   "source": [
    "# Self-Driving Car Engineer Nanodegree\n",
    "\n",
    "## Deep Learning\n",
    "\n",
    "## Project: Build a Traffic Sign Recognition Classifier\n",
    "\n",
    "In this notebook, a template is provided for you to implement your functionality in stages which is required to successfully complete this project. If additional code is required that cannot be included in the notebook, be sure that the Python code is successfully imported and included in your submission, if necessary. Sections that begin with **'Implementation'** in the header indicate where you should begin your implementation for your project. Note that some sections of implementation are optional, and will be marked with **'Optional'** in the header.\n",
    "\n",
    "In addition to implementing code, there will be questions that you must answer which relate to the project and your implementation. Each section where you will answer a question is preceded by a **'Question'** header. Carefully read each question and provide thorough answers in the following text boxes that begin with **'Answer:'**. Your project submission will be evaluated based on your answers to each of the questions and the implementation you provide.\n",
    "\n",
    ">**Note:** Code and Markdown cells can be executed using the **Shift + Enter** keyboard shortcut. In addition, Markdown cells can be edited by typically double-clicking the cell to enter edit mode."
   ]
  },
  {
   "cell_type": "markdown",
   "metadata": {},
   "source": [
    "---\n",
    "\n",
    "## Step 1: Dataset Exploration\n",
    "\n",
    "Visualize the German Traffic Signs Dataset. This is open ended, some suggestions include: plotting traffic signs images, plotting the count of each sign, etc. Be creative!\n",
    "\n",
    "\n",
    "The pickled data is a dictionary with 4 key/value pairs:\n",
    "\n",
    "- features -> the images pixel values, (width, height, channels)\n",
    "- labels -> the label of the traffic sign\n",
    "- sizes -> the original width and height of the image, (width, height)\n",
    "- coords -> coordinates of a bounding box around the sign in the image, (x1, y1, x2, y2). Based the original image (not the resized version)."
   ]
  },
  {
   "cell_type": "code",
   "execution_count": 1,
   "metadata": {
    "collapsed": false
   },
   "outputs": [],
   "source": [
    "# Load pickled data\n",
    "import pickle\n",
    "import numpy as np\n",
    "import cv2\n",
    "\n",
    "# TODO: fill this in based on where you saved the training and testing data\n",
    "training_file = 'train.p'\n",
    "testing_file = 'test.p'\n",
    "\n",
    "with open(training_file, mode='rb') as f:\n",
    "    train = pickle.load(f)\n",
    "with open(testing_file, mode='rb') as f:\n",
    "    test = pickle.load(f)\n",
    "    \n",
    "X_train, y_train = train['features'], train['labels']\n",
    "X_test, y_test = test['features'], test['labels']\n",
    "\n",
    "def normalize_image(image):\n",
    "    return cv2.normalize(image, None, 0.0, 1.0, cv2.NORM_MINMAX, dtype=cv2.CV_32F)\n",
    "\n",
    "def bind_image(image, box, src):\n",
    "    imshape = image.shape[:2]\n",
    "    src_img = cv2.resize(image, tuple(src))\n",
    "    x1, y1, x2, y2 = box \n",
    "    src_img = src_img[y1:y2, x1:x2,:]\n",
    "    try:\n",
    "        dst_img = cv2.resize(src_img, imshape)\n",
    "    except:\n",
    "        dst_img = image\n",
    "    return dst_img\n",
    "\n",
    "def pre_process(image, box=None, src=None):\n",
    "    if box is not None and src is not None:\n",
    "        image = bind_image(image, box, src)\n",
    "    \n",
    "    image = normalize_image(image)\n",
    "    image = cv2.resize(image, (32, 32))\n",
    "    return image\n",
    "\n",
    "X_train_src, X_test_src = train['sizes'], test['sizes']\n",
    "X_train_co, X_test_co = train['coords'], test['coords']\n",
    "\n",
    "X_train = np.array([pre_process(image, box, src ) for\n",
    "                    image, box, src in\n",
    "                    zip(X_train, X_train_co, X_train_src)],\n",
    "                   dtype=np.float32)\n",
    "X_test = np.array([pre_process(image, box, src) for \n",
    "                   image, box, src in\n",
    "                   zip(X_test, X_test_co, X_test_src)],\n",
    "                  dtype=np.float32)\n"
   ]
  },
  {
   "cell_type": "code",
   "execution_count": 2,
   "metadata": {
    "collapsed": false
   },
   "outputs": [
    {
     "name": "stdout",
     "output_type": "stream",
     "text": [
      "Number of training examples = 34799\n",
      "Number of testing examples = 12630\n",
      "Image data shape = (34799, 32, 32, 3)\n",
      "Number of classes = 43\n"
     ]
    }
   ],
   "source": [
    "### To start off let's do a basic data summary.\n",
    "\n",
    "# TODO: number of training examples\n",
    "n_train = len(X_train)\n",
    "\n",
    "# TODO: number of testing examples\n",
    "n_test = len(X_test)\n",
    "\n",
    "# TODO: what's the shape of an image?\n",
    "image_shape = X_train.shape\n",
    "\n",
    "# TODO: how many classes are in the dataset\n",
    "n_classes = len(set(train['labels']))\n",
    "\n",
    "print(\"Number of training examples =\", n_train)\n",
    "print(\"Number of testing examples =\", n_test)\n",
    "print(\"Image data shape =\", image_shape)\n",
    "print(\"Number of classes =\", n_classes)"
   ]
  },
  {
   "cell_type": "code",
   "execution_count": 3,
   "metadata": {
    "collapsed": false,
    "scrolled": false
   },
   "outputs": [
    {
     "name": "stdout",
     "output_type": "stream",
     "text": [
      "[0, 1, 2, 3, 4, 5, 6, 7, 8, 9, 10, 11, 12, 13, 14, 15, 16, 17, 18, 19, 20, 21, 22, 23, 24, 25, 26, 27, 28, 29, 30, 31, 32, 33, 34, 35, 36, 37, 38, 39, 40, 41, 42]\n"
     ]
    },
    {
     "data": {
      "image/png": "[encoded data removed]",
      "text/plain": [
       "<matplotlib.figure.Figure at 0x7f46cc896978>"
      ]
     },
     "metadata": {},
     "output_type": "display_data"
    }
   ],
   "source": [
    "### Data exploration visualization goes here.\n",
    "### Feel free to use as many code cells as needed.\n",
    "import matplotlib.pyplot as plt\n",
    "import random\n",
    "import csv\n",
    "import numpy as np\n",
    "\n",
    "label_names = {}\n",
    "with open('signnames.csv', newline='') as csvfile:\n",
    "    reader = csv.reader(csvfile)\n",
    "    for row in reader:\n",
    "        label_names[row[0]] = row[1]\n",
    "\n",
    "labelArray = []\n",
    "label_classes = []\n",
    "for i in range(43):\n",
    "    labelArray.append(label_names[str(i)])\n",
    "    label_classes.append(i)\n",
    "# print (labelArray)\n",
    "label_count = np.zeros((43),int)\n",
    "# print(label_count)\n",
    "for label in y_train:\n",
    "#     print(label)\n",
    "    label_count[label] += 1\n",
    "# print (label_count)\n",
    "\n",
    "\n",
    "# plt.show()\n",
    "# # plt.plot(labelArray, label_count)\n",
    "fig, ax = plt.subplots()\n",
    "ax.get_xaxis().get_major_formatter().set_scientific(False)\n",
    "ax.set_xticklabels(labelArray)\n",
    "fig.set_size_inches(10,5)\n",
    "# fig.canvas.draw()\n",
    "plt.xticks(label_count, labelArray, rotation='vertical')\n",
    "# plt.hist(label_count,43,alpha=0.5)\n",
    "\n",
    "fig.suptitle('Training Set Class Frequencies', fontsize=20)\n",
    "print(label_classes)\n",
    "plt.bar(label_classes, label_count, align='center', width=0.25)\n",
    "plt.xticks(label_classes, labelArray, rotation='vertical')\n",
    "\n",
    "\n",
    "plt.show()"
   ]
  },
  {
   "cell_type": "markdown",
   "metadata": {},
   "source": [
    "## Above, I create a visualization for how much training data exists for each possible classification. We see that for some classifications, we have significantly fewer samples than others."
   ]
  },
  {
   "cell_type": "markdown",
   "metadata": {},
   "source": [
    "----\n",
    "\n",
    "## Step 2: Design and Test a Model Architecture\n",
    "\n",
    "Design and implement a deep learning model that learns to recognize traffic signs. Train and test your model on the [German Traffic Sign Dataset](http://benchmark.ini.rub.de/?section=gtsrb&subsection=dataset).\n",
    "\n",
    "There are various aspects to consider when thinking about this problem:\n",
    "\n",
    "- Your model can be derived from a deep feedforward net or a deep convolutional network.\n",
    "- Play around preprocessing techniques (normalization, rgb to grayscale, etc)\n",
    "- Number of examples per label (some have more than others).\n",
    "- Generate fake data.\n",
    "\n",
    "Here is an example of a [published baseline model on this problem](http://yann.lecun.com/exdb/publis/pdf/sermanet-ijcnn-11.pdf). It's not required to be familiar with the approach used in the paper but, it's good practice to try to read papers like these."
   ]
  },
  {
   "cell_type": "markdown",
   "metadata": {},
   "source": [
    "### Implementation\n",
    "\n",
    "Use the code cell (or multiple code cells, if necessary) to implement the first step of your project. Once you have completed your implementation and are satisfied with the results, be sure to thoroughly answer the questions that follow."
   ]
  },
  {
   "cell_type": "code",
   "execution_count": 4,
   "metadata": {
    "collapsed": false,
    "scrolled": false
   },
   "outputs": [
    {
     "name": "stdout",
     "output_type": "stream",
     "text": [
      "woo\n"
     ]
    }
   ],
   "source": [
    "### Preprocess the data here.\n",
    "### Feel free to use as many code cells as needed.\n",
    "import tensorflow as tf\n",
    "# import cv2\n",
    "\n",
    "\n",
    "X_train = X_train.astype('float32')\n",
    "X_test = X_test.astype('float32')\n",
    "#could also do cv2.grayscale right here\n",
    "# X_train_gray = np.empty((0, 32, 32, 1))\n",
    "\n",
    "#     print (img.shape)\n",
    "# image = cv2.cvtColor(X_train[0], cv2.COLOR_RGB2GRAY)\n",
    "# #     print('test')\n",
    "# plt.figure()\n",
    "# plt.imshow(image)\n",
    "    \n",
    "print ('woo')\n",
    "\n",
    "\n"
   ]
  },
  {
   "cell_type": "markdown",
   "metadata": {},
   "source": [
    "### Question 1 \n",
    "\n",
    "_Describe the techniques used to preprocess the data._"
   ]
  },
  {
   "cell_type": "markdown",
   "metadata": {},
   "source": [
    "**Answer:** The data is normalized on a scale of 0-1 while retaining its color properties. I normalized the data because during training, the weights of the network are multiplied by each other. If the data values are not kept under or within 1, they can have extremely wide ranges, which makes finding global minimums and maximums during stochastic gradient descent much more costly."
   ]
  },
  {
   "cell_type": "code",
   "execution_count": 5,
   "metadata": {
    "collapsed": true
   },
   "outputs": [],
   "source": [
    "### Generate data additional (if you want to!)\n",
    "### and split the data into training/validation/testing sets here.\n",
    "### Feel free to use as many code cells as needed."
   ]
  },
  {
   "cell_type": "markdown",
   "metadata": {},
   "source": [
    "### Question 2\n",
    "\n",
    "_Describe how you set up the training, validation and testing data for your model. If you generated additional data, why?_"
   ]
  },
  {
   "cell_type": "markdown",
   "metadata": {},
   "source": [
    "**Answer:** I set up the training by importing the dataset for training, as well as the testing data for testing. After training the model, the the model is tested against the testing data for accuracy by feeding the testing data into the feed_dict.\n",
    "\n",
    "I originally tried another DNN architecture (implemented in function `DNN(x)`) based off of another research paper, and included a dropout layer. Unfortunately, I wasn't able to achieve similar results. I decided to go with the LeNet architecture after reading about its original success early on and seeing it suggested in the lessons.\n",
    "\n",
    "I went with 20 epochs because it seemed that the architecture's accuracy wasn't substantially more accurate after that many, and end results came out to be similar with new images taken from the internet (I attempted 50 epochs as well. Cost dropped to 0 but image prediction performance didn't improve, if not decrease).\n",
    "\n",
    "I chose a batch size of 128 because I knew that the memory of the G2.2. instance was capable of handling that many images at once.\n",
    "\n",
    "I chose ReLu because it has a constant gradient and is better for modeling positive real numbers, as well as having more efficient training."
   ]
  },
  {
   "cell_type": "code",
   "execution_count": null,
   "metadata": {
    "collapsed": false
   },
   "outputs": [],
   "source": [
    "### Define your architecture here.\n",
    "### Feel free to use as many code cells as needed.\n",
    "from tensorflow.contrib.layers import flatten\n",
    "batches = 64\n",
    "\n",
    "inputShape = X_train[0].shape[0] *  X_train[0].shape[1] *  X_train[0].shape[2]\n",
    "print (inputShape)\n",
    "def architecture(x):\n",
    "    WeightConv1 = tf.Variable(tf.truncated_normal(shape=(5,5,3,6)))\n",
    "    WeightBias1 = tf.Variable(tf.constant(0.0, shape=(6,)))\n",
    "    conv1 = tf.nn.conv2d(x, WeightConv1, strides=[1,1,1,1], padding='VALID') + WeightBias1\n",
    "    \n",
    "    conv1 = tf.nn.relu(conv1)\n",
    "    \n",
    "    conv1 = tf.nn.max_pool(conv1, ksize=[1,2,2,1], strides=[1,2,2,1], padding='VALID')\n",
    "    \n",
    "    conv2_W = tf.Variable(tf.truncated_normal(shape=(5,5,6,16)))\n",
    "    conv2_b = tf.Variable(tf.constant(0.0, shape=(16,)))\n",
    "    conv2 = tf.nn.conv2(conv1, conv2_W, strides=[1,1,1,1], padding='VALID') + conv2_b\n",
    "    conv2 = tf.nn.relu(conv2)\n",
    "    conv2 = tf.nn.max_pool(conv1, ksize=[1,2,2,1], strides=[1,2,2,1], padding='VALID')\n",
    "    \n",
    "    fc1 = flatten(conv2)\n",
    "    \n",
    "    fc1_shape = (fc1.get_shape().as_list()[-1], 120)\n",
    "    \n",
    "    fc1_W = tf.Variable(tf.truncated_normal(shape=(fc1_shape)))\n",
    "    fc1_b = tf.Variable(tf.constant(0.0, shape=(120,)))\n",
    "    fc1 = tf.matmul(fc1, fc1_W) + fc1_b\n",
    "    fc1 = tf.nn.relu(fc1)\n",
    "    \n",
    "    fc2_W = tf.Variable(tf.truncated_normal(shape=(120, 43)))\n",
    "    fc2_b = tf.Variable(tf.constant(0.0, shape=(43,)))\n",
    "    return tf.matmul(fc1, fc2_W) + fc2_b\n",
    "\n",
    "    \n",
    "def conv2d(x, W, b, strides=1):\n",
    "    # Conv2D wrapper, with bias and relu activation\n",
    "    x = tf.nn.conv2d(x, W, strides=[1, strides, strides, 1], padding='SAME')\n",
    "    x = tf.nn.bias_add(x, b)\n",
    "    return tf.nn.relu(x)\n",
    "\n",
    "def new_weights(shape):\n",
    "    return tf.Variable(tf.truncated_normal(shape, stddev=0.05))\n",
    "def new_biases(length):\n",
    "    return tf.Variable(tf.constant(0.05, shape=[length]))\n",
    "def conv_layer(input_layer,\n",
    "               num_input_channels,\n",
    "               kernel_size,\n",
    "               num_filters,\n",
    "               padding = 'VALID',\n",
    "               use_pooling=True):\n",
    "\n",
    "    shape = [kernel_size, kernel_size, num_input_channels, num_filters]\n",
    "\n",
    "    weights = new_weights(shape=shape)\n",
    "    biases = new_biases(length=num_filters)\n",
    "\n",
    "    layer = tf.nn.conv2d(input=input_layer,\n",
    "                         filter=weights,\n",
    "                         strides=[1, 1, 1, 1],\n",
    "                         padding=padding)\n",
    "\n",
    "    layer += biases\n",
    "    if use_pooling:\n",
    "        layer = tf.nn.max_pool(value=layer,\n",
    "                               ksize=[1, 2, 2, 1],\n",
    "                               strides=[1, 2, 2, 1],\n",
    "                               padding=padding)\n",
    "    layer = tf.nn.relu(layer)\n",
    "    return layer\n",
    "\n",
    "def fc_layer(input_layer,\n",
    "            num_inputs,\n",
    "            num_outputs,\n",
    "            use_relu=True):\n",
    "\n",
    "    weights = new_weights(shape=[num_inputs, num_outputs])\n",
    "    biases = new_biases(length=num_outputs)\n",
    "    layer = tf.matmul(input_layer, weights) + biases\n",
    "\n",
    "    if use_relu:\n",
    "        layer = tf.nn.relu(layer)\n",
    "\n",
    "    return layer\n",
    "\n",
    "def maxpool2d(x, k=2):\n",
    "    return tf.nn.max_pool(\n",
    "        x,\n",
    "        ksize=[1, k, k, 1],\n",
    "        strides=[1, k, k, 1],\n",
    "        padding='SAME')\n",
    "\n",
    "def conv_net(x, weights, biases):\n",
    "    # Layer 1 - 28*28*1 to 14*14*32\n",
    "    #new layer 1 – 32 * 32 * 3 –> 16 * 16 * 100\n",
    "    conv1 = conv2d(x, weights['layer_1'], biases['layer_1'])\n",
    "    print(conv1.get_shape)\n",
    "    conv1 = maxpool2d(conv1)\n",
    "\n",
    "    # Layer 2 - 14*14*32 to 7*7*64\n",
    "    #new layer 2 – 16 * 16 * 100 –> 8 * 8 * 150\n",
    "    conv2 = conv2d(conv1, weights['layer_2'], biases['layer_2'])\n",
    "    print(conv2.get_shape)\n",
    "    conv2 = maxpool2d(conv2)\n",
    "\n",
    "    # Layer 3 - 7*7*64 to 4*4*128\n",
    "    #new layer 3 – 8 * 8 * 150 –> 4 * 4 * 250\n",
    "    conv3 = conv2d(conv2, weights['layer_3'], biases['layer_3'])\n",
    "    conv3 = maxpool2d(conv3)\n",
    "\n",
    "    # Fully connected layer - 4*4*128 to 512\n",
    "    # Reshape conv3 output to fit fully connected layer input\n",
    "    fc1 = tf.reshape(\n",
    "        conv3,\n",
    "        [-1, weights['fully_connected'].get_shape().as_list()[0]])\n",
    "    fc1 = tf.add(\n",
    "        tf.matmul(fc1, weights['fully_connected']),\n",
    "        biases['fully_connected'])\n",
    "    fc1 = tf.nn.tanh(fc1)\n",
    "\n",
    "    # Output Layer - class prediction - 512 to 10\n",
    "    out = tf.add(tf.matmul(fc1, weights['out']), biases['out'])\n",
    "    return out\n",
    "\n",
    "def dense_to_one_hot(labels, n_classes):\n",
    "    labels = np.array(labels)\n",
    "    n_labels = labels.shape[0]\n",
    "    index_offset = np.arange(n_labels) * n_classes\n",
    "    labels_one_hot = np.zeros((n_labels, n_classes), dtype=np.float32)\n",
    "    labels_one_hot.flat[index_offset + labels.ravel()] = 1\n",
    "    return labels_one_hot\n",
    "\n",
    "def flatten_layer(layer):\n",
    "    layer_shape = layer.get_shape()\n",
    "    num_features = layer_shape[1:4].num_elements()\n",
    "    layer_flat = tf.reshape(layer, [-1, num_features])\n",
    "    return layer_flat, num_features\n",
    "\n",
    "def DNN(X):\n",
    "    layer_1 = conv_layer(input_layer=features,\n",
    "                         num_input_channels=3,\n",
    "                         kernel_size=7,\n",
    "                         num_filters=100,\n",
    "                         padding = 'VALID',\n",
    "                         use_pooling=True\n",
    "                         )\n",
    "\n",
    "    layer_2 = conv_layer(input_layer=layer_1,\n",
    "                         num_input_channels=100,\n",
    "                         kernel_size=4,\n",
    "                         num_filters=150,\n",
    "                         padding = 'VALID',\n",
    "                         use_pooling=True\n",
    "                         )\n",
    "    layer_3 = conv_layer(input_layer=layer_2,\n",
    "                         num_input_channels=150,\n",
    "                         kernel_size=4,\n",
    "                         num_filters=250,\n",
    "                         padding = 'VALID',\n",
    "                         use_pooling=True\n",
    "                         )\n",
    "\n",
    "    layer_3_flat, layer_3_flat_count = flatten_layer(layer_3)\n",
    "\n",
    "    layer_4 = fc_layer(input_layer = layer_3_flat,\n",
    "                       num_inputs = layer_3_flat_count,\n",
    "                       num_outputs = 300,\n",
    "                       use_relu=True)\n",
    "\n",
    "    layer_4 = tf.nn.dropout(layer_4, keep_prob=0.5)\n",
    "\n",
    "    layer_5 = fc_layer(input_layer=layer_4,\n",
    "                       num_inputs=300,\n",
    "                       num_outputs=n_classes,\n",
    "                       use_relu=True)\n",
    "    return layer_5\n",
    "def LeNetOriginal(x):    \n",
    "    # Hyperparameters\n",
    "    mu = 0\n",
    "    sigma = 0.1\n",
    "    \n",
    "    # SOLUTION: Layer 1: Convolutional. Input = 32x32x1. Output = 28x28x6.\n",
    "    conv1_W = tf.Variable(tf.truncated_normal(shape=(5, 5, 3, 6), mean = mu, stddev = sigma))\n",
    "    conv1_b = tf.Variable(tf.zeros(6))\n",
    "    conv1   = tf.nn.conv2d(x, conv1_W, strides=[1, 1, 1, 1], padding='VALID') + conv1_b\n",
    "\n",
    "    # SOLUTION: Activation.\n",
    "    conv1 = tf.nn.relu(conv1)\n",
    "\n",
    "    # SOLUTION: Pooling. Input = 28x28x6. Output = 14x14x6.\n",
    "    conv1 = tf.nn.max_pool(conv1, ksize=[1, 2, 2, 1], strides=[1, 2, 2, 1], padding='VALID')\n",
    "\n",
    "    # SOLUTION: Layer 2: Convolutional. Output = 10x10x16.\n",
    "    conv2_W = tf.Variable(tf.truncated_normal(shape=(5, 5, 6, 16), mean = mu, stddev = sigma))\n",
    "    conv2_b = tf.Variable(tf.zeros(16))\n",
    "    conv2   = tf.nn.conv2d(conv1, conv2_W, strides=[1, 1, 1, 1], padding='VALID') + conv2_b\n",
    "    \n",
    "    # SOLUTION: Activation.\n",
    "    conv2 = tf.nn.relu(conv2)\n",
    "\n",
    "    # SOLUTION: Pooling. Input = 10x10x16. Output = 5x5x16.\n",
    "    conv2 = tf.nn.max_pool(conv2, ksize=[1, 2, 2, 1], strides=[1, 2, 2, 1], padding='VALID')\n",
    "\n",
    "    # SOLUTION: Flatten. Input = 5x5x16. Output = 400.\n",
    "    fc0   = flatten(conv2)\n",
    "    \n",
    "    # SOLUTION: Layer 3: Fully Connected. Input = 400. Output = 120.\n",
    "    fc1_W = tf.Variable(tf.truncated_normal(shape=(400, 120), mean = mu, stddev = sigma))\n",
    "    fc1_b = tf.Variable(tf.zeros(120))\n",
    "    fc1   = tf.matmul(fc0, fc1_W) + fc1_b\n",
    "    \n",
    "    # SOLUTION: Activation.\n",
    "    fc1    = tf.nn.relu(fc1)\n",
    "\n",
    "    # SOLUTION: Layer 4: Fully Connected. Input = 120. Output = 84.\n",
    "    fc2_W  = tf.Variable(tf.truncated_normal(shape=(120, 84), mean = mu, stddev = sigma))\n",
    "    fc2_b  = tf.Variable(tf.zeros(84))\n",
    "    fc2    = tf.matmul(fc1, fc2_W) + fc2_b\n",
    "    \n",
    "    # SOLUTION: Activation.\n",
    "    fc2    = tf.nn.relu(fc2)\n",
    "\n",
    "    # SOLUTION: Layer 5: Fully Connected. Input = 84. Output = 10.\n",
    "    fc3_W  = tf.Variable(tf.truncated_normal(shape=(84, 43), mean = mu, stddev = sigma))\n",
    "    fc3_b  = tf.Variable(tf.zeros(43))\n",
    "    logits = tf.matmul(fc2, fc3_W) + fc3_b\n",
    "    \n",
    "    return logits\n",
    "def LeNet(x):\n",
    "    # Reshape from 2D to 4D. This prepares the data for\n",
    "    # convolutional and pooling layers.\n",
    "#     x = tf.reshape(x, (None, 32, 32, 3))\n",
    "    # Pad 0s to 32x32. Centers the digit further.\n",
    "    # Add 2 rows/columns on each side for height and width dimensions.\n",
    "#     x = tf.pad(x, [[0, 0], [2, 2], [2, 2], [0, 0]], mode=\"CONSTANT\")\n",
    "    \n",
    "    mu = 0\n",
    "    sigma = 0.1\n",
    "\n",
    "    # 32x32x6\n",
    "    conv1_W = tf.Variable(tf.truncated_normal(shape=(5, 5, 3, 6), mean = mu, stddev = sigma))\n",
    "    conv1_b = tf.Variable(tf.zeros(6))\n",
    "    conv1 = tf.nn.conv2d(x, conv1_W, strides=[1, 1, 1, 1], padding='VALID') + conv1_b\n",
    "\n",
    "    conv1 = tf.nn.relu(conv1)\n",
    "\n",
    "    # 14x14x6\n",
    "    conv1 = tf.nn.max_pool(conv1, ksize=[1, 2, 2, 1], strides=[1, 2, 2, 1], padding='VALID')\n",
    "\n",
    "    # 10x10x16\n",
    "    conv2_W = tf.Variable(tf.truncated_normal(shape=(5, 5, 6, 16), mean = mu, stddev = sigma))\n",
    "    conv2_b = tf.Variable(tf.zeros(16))\n",
    "    conv2 = tf.nn.conv2d(conv1, conv2_W, strides=[1, 1, 1, 1], padding='VALID') + conv2_b\n",
    "\n",
    "    conv2 = tf.nn.relu(conv2)\n",
    "\n",
    "    # 5x5x16\n",
    "    conv2 = tf.nn.max_pool(conv2, ksize=[1, 2, 2, 1], strides=[1, 2, 2, 1], padding='VALID')\n",
    "\n",
    "    # Flatten\n",
    "    fc1 = flatten(conv2)\n",
    "    # (5 * 5 * 16, 120)\n",
    "#     fc1_shape = (fc1.get_shape().as_list()[-1], 120)\n",
    "\n",
    "    fc1_W = tf.Variable(tf.truncated_normal(shape=(400, 120), mean = mu, stddev = sigma))\n",
    "    fc1_b = tf.Variable(tf.zeros(120))\n",
    "    fc1 = tf.matmul(fc1, fc1_W) + fc1_b\n",
    "   \n",
    "    fc1 = tf.nn.relu(fc1)\n",
    "    \n",
    "    fc2_W = tf.Variable(tf.truncated_normal(shape=(120, 84), mean = mu, stddev = sigma))\n",
    "    fc2_b = tf.Variable(tf.zeros(84))\n",
    "    fc2 = tf.matmul(fc1, fc2_W) + fc2_b\n",
    "   \n",
    "    fc2 = tf.nn.relu(fc2)\n",
    "\n",
    "    fc3_W = tf.Variable(tf.truncated_normal(shape=(84, n_classes)))\n",
    "    fc3_b = tf.Variable(tf.zeros(n_classes))\n",
    "    return tf.matmul(fc2, fc3_W) + fc3_b"
   ]
  },
  {
   "cell_type": "markdown",
   "metadata": {},
   "source": [
    "### Question 3\n",
    "\n",
    "_What does your final architecture look like? (Type of model, layers, sizes, connectivity, etc.)  For reference on how to build a deep neural network using TensorFlow, see [Deep Neural Network in TensorFlow\n",
    "](https://classroom.udacity.com/nanodegrees/nd013/parts/fbf77062-5703-404e-b60c-95b78b2f3f9e/modules/6df7ae49-c61c-4bb2-a23e-6527e69209ec/lessons/b516a270-8600-4f93-a0a3-20dfeabe5da6/concepts/83a3a2a2-a9bd-4b7b-95b0-eb924ab14432) from the classroom._\n"
   ]
  },
  {
   "cell_type": "markdown",
   "metadata": {},
   "source": [
    "**Answer:** Input 32\\*32\\*3 –> Conv 26\\*26\\*100 –> Max Pool 13\\*13\\*100 –> Relu 13\\*13\\*100 –> Conv 10\\*10\\*150 –> Max Pool 5\\*5\\*150 –> Relu 5\\*5\\*150 –> Conv 2\\*2\\*250  –> Max Pool 1\\*1\\*250 –> Relu 1\\*1\\*250 –> Fully Connected 300 neurons –> Dropout 300 neurons –> Fully Connected 43 neurons\n",
    "\n",
    "The Final architecture uses LeNet's implementation, adjusted for colored data such that it scans RGB values instead of just a flat B&W image"
   ]
  },
  {
   "cell_type": "code",
   "execution_count": 7,
   "metadata": {
    "collapsed": false
   },
   "outputs": [
    {
     "name": "stdout",
     "output_type": "stream",
     "text": [
      "<bound method Tensor.get_shape of <tf.Tensor 'features:0' shape=(?, 32, 32, 3) dtype=float32>>\n",
      "Tensor(\"strided_slice:0\", shape=(43,), dtype=float32)\n"
     ]
    }
   ],
   "source": [
    "## Train your model here.\n",
    "### Feel free to use as many code cells as needed.\n",
    "from sklearn.model_selection import train_test_split\n",
    "# x = tf.placeholder(tf.float32, (None, inputShape))\n",
    "# # Classify over 10 digits 0-9.\n",
    "# y = tf.placeholder(tf.float32, (None, 43))\n",
    "# # Create the LeNet.\n",
    "# fc2 = architecture(x)\n",
    "\n",
    "\n",
    "X_train, X_val, y_train, y_val = train_test_split(train['features'], train['labels'], test_size=0.05, random_state=0)\n",
    "X_test, y_test = test['features'], test['labels']\n",
    "X_train = X_train.astype('float32')\n",
    "X_val = X_val.astype('float32')\n",
    "X_test = X_test.astype('float32')\n",
    "\n",
    "\n",
    "\n",
    "batch_size = 128\n",
    "# number of traffic signs\n",
    "n_classes = 43\n",
    "epochs = 20\n",
    "epoch = 0\n",
    "input_shape = X_train.shape[1:]\n",
    "learning_rate = 0.001\n",
    "feature_size = 32*32*3\n",
    "\n",
    "\n",
    "layer_width = {\n",
    "    'layer_1': 100,\n",
    "    'layer_2': 150,\n",
    "    'layer_3': 250,\n",
    "    'fully_connected': 300\n",
    "}\n",
    "\n",
    "weights = {\n",
    "    'layer_1': tf.Variable(tf.truncated_normal(\n",
    "        [7, 7, 3, layer_width['layer_1']])),\n",
    "    'layer_2': tf.Variable(tf.truncated_normal(\n",
    "        [2, 2, layer_width['layer_1'], layer_width['layer_2']])),\n",
    "    'layer_3': tf.Variable(tf.truncated_normal(\n",
    "        [4, 4, layer_width['layer_2'], layer_width['layer_3']])),\n",
    "    'fully_connected': tf.Variable(tf.truncated_normal(\n",
    "        [4 * 4 * 250, layer_width['fully_connected']])),\n",
    "    'out': tf.Variable(tf.truncated_normal(\n",
    "        [layer_width['fully_connected'], n_classes]))\n",
    "}\n",
    "\n",
    "biases = {\n",
    "    'layer_1': tf.Variable(tf.zeros(layer_width['layer_1'])),\n",
    "    'layer_2': tf.Variable(tf.zeros(layer_width['layer_2'])),\n",
    "    'layer_3': tf.Variable(tf.zeros(layer_width['layer_3'])),\n",
    "    'fully_connected': tf.Variable(tf.zeros(layer_width['fully_connected'])),\n",
    "    'out': tf.Variable(tf.zeros(n_classes))\n",
    "}\n",
    "\n",
    "y_train = dense_to_one_hot(y_train, n_classes)\n",
    "\n",
    "feature_size = 32*32*3\n",
    "\n",
    "\n",
    "features = tf.placeholder(tf.float32, (None, 32,32,3), name=\"features\")\n",
    "labels = tf.placeholder(tf.int64, (None), name=\"labels\")\n",
    "print(features.get_shape)\n",
    "\n",
    "#====from sec.29\n",
    "# logits = conv_net(features, weights, biases)\n",
    "logits = LeNetOriginal(features)\n",
    "# logits = LeNet(features)\n",
    "# Define loss and optimizer\n",
    "print(logits[1])\n",
    "cost = tf.reduce_mean(tf.nn.softmax_cross_entropy_with_logits(logits, labels))\n",
    "optimizer = tf.train.AdamOptimizer(learning_rate=learning_rate).minimize(cost)\n",
    "#=====\n",
    "#commented out to prevent overwriting of model.\n",
    "# saver = tf.train.Saver()\n",
    "init = tf.global_variables_initializer()\n",
    "saver = tf.train.Saver()"
   ]
  },
  {
   "cell_type": "code",
   "execution_count": 8,
   "metadata": {
    "collapsed": false,
    "scrolled": false
   },
   "outputs": [
    {
     "name": "stdout",
     "output_type": "stream",
     "text": [
      "Initializing\n",
      "Training\n",
      "Epoch: 0001 cost= 0.508454323\n",
      "Model Saved\n",
      "Epoch: 0002 cost= 0.304959387\n",
      "Model Saved\n",
      "Epoch: 0003 cost= 0.265699536\n",
      "Model Saved\n",
      "Epoch: 0004 cost= 0.171775773\n",
      "Model Saved\n",
      "Epoch: 0005 cost= 0.246935055\n",
      "Model Saved\n",
      "Epoch: 0006 cost= 0.147007063\n",
      "Model Saved\n",
      "Epoch: 0007 cost= 0.103390902\n",
      "Model Saved\n",
      "Epoch: 0008 cost= 0.273687303\n",
      "Model Saved\n",
      "Epoch: 0009 cost= 0.065094069\n",
      "Model Saved\n",
      "Epoch: 0010 cost= 0.023560692\n",
      "Model Saved\n",
      "Epoch: 0011 cost= 0.117294520\n",
      "Model Saved\n",
      "Epoch: 0012 cost= 0.009185446\n",
      "Model Saved\n",
      "Epoch: 0013 cost= 0.150180086\n",
      "Model Saved\n",
      "Epoch: 0014 cost= 0.009940211\n",
      "Model Saved\n",
      "Epoch: 0015 cost= 0.135519341\n",
      "Model Saved\n",
      "Epoch: 0016 cost= 0.160783634\n",
      "Model Saved\n",
      "Epoch: 0017 cost= 0.118782364\n",
      "Model Saved\n",
      "Epoch: 0018 cost= 0.207473069\n",
      "Model Saved\n",
      "Epoch: 0019 cost= 0.193570033\n",
      "Model Saved\n",
      "Epoch: 0020 cost= 0.337661922\n",
      "Model Saved\n",
      "Optimization Finished!\n",
      "Accuracy: 0.904355\n"
     ]
    }
   ],
   "source": [
    "with tf.Session() as sess:\n",
    "    print(\"Initializing\")\n",
    "    sess.run(init)\n",
    "#     saver = tf.train.import_meta_graph(\"traffic-signs-model.meta\")\n",
    "#     saver.restore(sess, tf.train.latest_checkpoint('./'))\n",
    "    print(\"Training\")\n",
    "    for i in range(epochs):\n",
    "        for offset in range(0, X_train.shape[0], batch_size):\n",
    "#             print(\"Training images \", offset, \" through \", offset+batch_size)\n",
    "            end = offset + batch_size\n",
    "            batch_X = X_train[offset:end]\n",
    "            batch_y = y_train[offset:end]\n",
    "#             print(batch_y.shape)\n",
    "            bs = batch_X.shape[0]\n",
    "#             print (bs)\n",
    "#             batch_X = batch_X.reshape(bs, feature_size)\n",
    "#             batch_X = batch_X.reshape(bs,48,48,3)\n",
    "#             batch_y = batch_y.reshape(bs, n_classes)\n",
    "#             print(\"shape\", X_train.shape)\n",
    "            label_ones = np.zeros(shape=(64,43))\n",
    "#         for label in range(len(batch_y)):\n",
    "#               label_ones[label][batch_y[label]] = 1\n",
    "            if(batch_X.shape[0] < 64):\n",
    "                break\n",
    "            sess.run(optimizer, feed_dict={features: batch_X, labels: batch_y})\n",
    "\n",
    "#         val_l, val_acc = sess.run([loss, accuracy], feed_dict={features: X_val.reshape(X_val.shape[0], feature_size), labels: y_val})\n",
    "        c = sess.run(cost, feed_dict={features: batch_X, labels: batch_y})\n",
    "        print(\"Epoch:\", '%04d' % (epoch+1), \"cost=\", \"{:.9f}\".format(c))\n",
    "        saver.save(sess, 'traffic-signs-model')\n",
    "        print(\"Model Saved\")\n",
    "        epoch += 1\n",
    "#         print(\"Validation\tAccuracy =\", val_acc)\n",
    "    print(\"Optimization Finished!\")\n",
    "\n",
    "\n",
    "# Test model\n",
    "\n",
    "    correct_prediction = tf.equal(tf.argmax(logits, 1), tf.argmax(labels, 1))\n",
    "    # Calculate accuracy\n",
    "    y_test_matrix = dense_to_one_hot(y_test, n_classes)\n",
    "    accuracy = tf.reduce_mean(tf.cast(correct_prediction, \"float\"))\n",
    "    \n",
    "    print(\"Accuracy:\",accuracy.eval({features: X_test, labels: y_test_matrix}))\n",
    "    "
   ]
  },
  {
   "cell_type": "markdown",
   "metadata": {},
   "source": [
    "### Question 4\n",
    "\n",
    "_How did you train your model? (Type of optimizer, batch size, epochs, hyperparameters, etc.)_\n"
   ]
  },
  {
   "cell_type": "markdown",
   "metadata": {},
   "source": [
    "**Answer:** I trained it using an Adam optimizer, a batch-size of 128, 20 epochs, and a learning rate of 0.001. I used the Adam optimizer because it's supposed to be more efficient than vanilla gradient descent."
   ]
  },
  {
   "cell_type": "markdown",
   "metadata": {},
   "source": [
    "### Question 5\n",
    "\n",
    "\n",
    "_What approach did you take in coming up with a solution to this problem?_"
   ]
  },
  {
   "cell_type": "markdown",
   "metadata": {},
   "source": [
    "**Answer:** My approach involved trying multiple neural network architectures as a combination of what was computationally efficient, as well as what seemed to have adequate accuracy. Eventually I settled on LeNet because it seemed to work accuracy-wise, and it was fast to train."
   ]
  },
  {
   "cell_type": "markdown",
   "metadata": {},
   "source": [
    "---\n",
    "\n",
    "## Step 3: Test a Model on New Images\n",
    "\n",
    "Take several pictures of traffic signs that you find on the web or around you (at least five), and run them through your classifier on your computer to produce example results. The classifier might not recognize some local signs but it could prove interesting nonetheless.\n",
    "\n",
    "You may find `signnames.csv` useful as it contains mappings from the class id (integer) to the actual sign name."
   ]
  },
  {
   "cell_type": "markdown",
   "metadata": {},
   "source": [
    "### Implementation\n",
    "\n",
    "Use the code cell (or multiple code cells, if necessary) to implement the first step of your project. Once you have completed your implementation and are satisfied with the results, be sure to thoroughly answer the questions that follow."
   ]
  },
  {
   "cell_type": "code",
   "execution_count": 9,
   "metadata": {
    "collapsed": false,
    "scrolled": true
   },
   "outputs": [
    {
     "name": "stdout",
     "output_type": "stream",
     "text": [
      "5\n"
     ]
    },
    {
     "data": {
      "image/png": "[encoded data removed]",
      "text/plain": [
       "<matplotlib.figure.Figure at 0x7f46b27cb828>"
      ]
     },
     "metadata": {},
     "output_type": "display_data"
    },
    {
     "data": {
      "image/png": "[encoded data removed]",
      "text/plain": [
       "<matplotlib.figure.Figure at 0x7f46c1e688d0>"
      ]
     },
     "metadata": {},
     "output_type": "display_data"
    },
    {
     "data": {
      "image/png": "[encoded data removed]",
      "text/plain": [
       "<matplotlib.figure.Figure at 0x7f46b937be48>"
      ]
     },
     "metadata": {},
     "output_type": "display_data"
    },
    {
     "data": {
      "image/png": "[encoded data removed]",
      "text/plain": [
       "<matplotlib.figure.Figure at 0x7f46b8e1a438>"
      ]
     },
     "metadata": {},
     "output_type": "display_data"
    },
    {
     "data": {
      "image/png": "[encoded data removed]",
      "text/plain": [
       "<matplotlib.figure.Figure at 0x7f46b938c080>"
      ]
     },
     "metadata": {},
     "output_type": "display_data"
    },
    {
     "name": "stdout",
     "output_type": "stream",
     "text": [
      "Tensor(\"labels:0\", dtype=int64)\n"
     ]
    }
   ],
   "source": [
    "### Load the images and plot them here.\n",
    "### Feel free to use as many code cells as needed.\n",
    "# print(\"Accuracy: \",accuracy.eval(session=sess, feed_dict={features: X_test, labels: y_test}))\n",
    "import matplotlib.image as mpimg\n",
    "import matplotlib.pyplot as plt\n",
    "import csv\n",
    "\n",
    "\n",
    "\n",
    "test_images = ['stop.png','20.png','80.png', 'priority.png', 'keepright.png']\n",
    "new_test = []\n",
    "print(len(test_images))\n",
    "for img in test_images:\n",
    "    readImage = mpimg.imread(img)\n",
    "    readImage = readImage[:,:,:3]\n",
    "#     image = cv2.cvtColor(pre_process(readImage), cv2.COLOR_BGRA2BGR)\n",
    "    image = pre_process(readImage)\n",
    "    plt.figure()\n",
    "    plt.imshow(image)\n",
    "    new_test.append(image)\n",
    "    plt.show()\n",
    "    \n",
    "    \n",
    "\n",
    "print(labels)\n",
    "\n",
    "        \n",
    "    "
   ]
  },
  {
   "cell_type": "markdown",
   "metadata": {},
   "source": [
    "### Question 6\n",
    "\n",
    "_Choose five candidate images of traffic signs and provide them in the report. Are there any particular qualities of the image(s) that might make classification difficult? It would be helpful to plot the images in the notebook._\n",
    "\n"
   ]
  },
  {
   "cell_type": "markdown",
   "metadata": {},
   "source": [
    "**Answer:** The images are fairly blurry, but given that their dimensions are 32x32, we cannot expect much detail from them. The model is not nearly as accurate with the new images, as it is with its original training set, but it at least gets one of the signs correct, it also has a good second guess for the 80 km/h sign, and the signs where it is wrong generally have similar colors to the predicted sign."
   ]
  },
  {
   "cell_type": "code",
   "execution_count": 10,
   "metadata": {
    "collapsed": false,
    "scrolled": false
   },
   "outputs": [
    {
     "name": "stdout",
     "output_type": "stream",
     "text": [
      "Prediction:  Stop\n",
      "Correct:  stop.png\n",
      "Prediction:  Yield\n",
      "Correct:  20.png\n",
      "Prediction:  Speed limit (100km/h)\n",
      "Correct:  80.png\n",
      "Prediction:  End of speed limit (80km/h)\n",
      "Correct:  priority.png\n",
      "Prediction:  Road work\n",
      "Correct:  keepright.png\n"
     ]
    }
   ],
   "source": [
    "### Run the predictions here.\n",
    "### Feel free to use as many code cells as needed.\n",
    "init = tf.global_variables_initializer()\n",
    "\n",
    "with tf.Session() as sess:\n",
    "    sess.run(init)\n",
    "    new_saver = tf.train.import_meta_graph(\"traffic-signs-model.meta\")\n",
    "    new_saver.restore(sess, tf.train.latest_checkpoint('./'))\n",
    "#     print (new_saver)\n",
    "    prediction = tf.nn.softmax(logits)\n",
    "    predictions = sess.run(prediction, {features: new_test})\n",
    "    values, index = sess.run(tf.nn.top_k(prediction, 5), feed_dict={features: new_test})\n",
    "#     print(predictions)\n",
    "    i = 0 \n",
    "    for p in predictions:\n",
    "\n",
    "#         plt.figure()\n",
    "#         plt.imshow(new_test[index])\n",
    "#         plt.show()\n",
    "#         for l in index[i]:\n",
    "#             print(label_names[str(l)])\n",
    "        print(\"Prediction: \",label_names[str(index[i][4])])\n",
    "        print(\"Correct: \", test_images[i])\n",
    "        i += 1\n",
    "#         print(label_names[str(np.argmax(p))])\n",
    "    #for each prediction in predictions, sess.run(tf.nn.top_k(prediction, 1))\n",
    "    "
   ]
  },
  {
   "cell_type": "code",
   "execution_count": 11,
   "metadata": {
    "collapsed": false,
    "scrolled": false
   },
   "outputs": [
    {
     "data": {
      "image/png": "[encoded data removed]",
      "text/plain": [
       "<matplotlib.figure.Figure at 0x7f46b93f0390>"
      ]
     },
     "metadata": {},
     "output_type": "display_data"
    },
    {
     "name": "stdout",
     "output_type": "stream",
     "text": [
      "Prediction:  Stop\n",
      "Correct:  stop.png\n"
     ]
    },
    {
     "data": {
      "image/png": "[encoded data removed]",
      "text/plain": [
       "<matplotlib.figure.Figure at 0x7f466c531198>"
      ]
     },
     "metadata": {},
     "output_type": "display_data"
    },
    {
     "name": "stdout",
     "output_type": "stream",
     "text": [
      "Prediction:  Yield\n",
      "Correct:  20.png\n"
     ]
    },
    {
     "data": {
      "image/png": "[encoded data removed]",
      "text/plain": [
       "<matplotlib.figure.Figure at 0x7f46b8da8940>"
      ]
     },
     "metadata": {},
     "output_type": "display_data"
    },
    {
     "name": "stdout",
     "output_type": "stream",
     "text": [
      "Prediction:  Speed limit (100km/h)\n",
      "Correct:  80.png\n"
     ]
    },
    {
     "data": {
      "image/png": "[encoded data removed]",
      "text/plain": [
       "<matplotlib.figure.Figure at 0x7f46c1d0a438>"
      ]
     },
     "metadata": {},
     "output_type": "display_data"
    },
    {
     "name": "stdout",
     "output_type": "stream",
     "text": [
      "Prediction:  End of speed limit (80km/h)\n",
      "Correct:  priority.png\n"
     ]
    },
    {
     "data": {
      "image/png": "[encoded data removed]",
      "text/plain": [
       "<matplotlib.figure.Figure at 0x7f466c5d0208>"
      ]
     },
     "metadata": {},
     "output_type": "display_data"
    },
    {
     "name": "stdout",
     "output_type": "stream",
     "text": [
      "Prediction:  Road work\n",
      "Correct:  keepright.png\n"
     ]
    }
   ],
   "source": [
    "### Visualize the softmax probabilities here.\n",
    "### Feel free to use as many code cells as needed.\n",
    "import matplotlib.pyplot as plt\n",
    "\n",
    "\n",
    "with tf.Session() as sess:\n",
    "    sess.run(init)\n",
    "    new_saver = tf.train.import_meta_graph(\"traffic-signs-model.meta\")\n",
    "    new_saver.restore(sess, tf.train.latest_checkpoint('./'))\n",
    "#     print (new_saver)\n",
    "    prediction = tf.nn.softmax(logits)\n",
    "    predictions = sess.run(prediction, {features: new_test})\n",
    "    values, index = sess.run(tf.nn.top_k(prediction, 5), feed_dict={features: new_test})\n",
    "#     print(predictions)\n",
    "    i = 0 \n",
    "    for p in predictions:\n",
    "\n",
    "#         plt.figure()\n",
    "#         plt.imshow(new_test[index])\n",
    "#         plt.show()\n",
    "#         for l in index[i]:\n",
    "#             print(label_names[str(l)])\n",
    "       \n",
    "        predicted_classes = []\n",
    "        for l in index[i]:\n",
    "            predicted_classes.append((label_names[str(l)]))\n",
    "        fig, ax = plt.subplots()\n",
    "        ax.get_xaxis().get_major_formatter().set_scientific(False)\n",
    "        ax.set_xticklabels(predicted_classes)\n",
    "        fig.set_size_inches(10,5)\n",
    "        # fig.canvas.draw()\n",
    "        plt.xticks(values[i], predicted_classes, rotation='vertical')\n",
    "        # plt.hist(label_count,43,alpha=0.5)\n",
    "\n",
    "        fig.suptitle(test_images[i], fontsize=20)\n",
    "       \n",
    "        plt.bar([0,1,2,3,4], values[i], align='center', width=0.25)\n",
    "        plt.xticks([0,1,2,3,4], predicted_classes, rotation='horizontal')\n",
    "        plt.show()\n",
    "        print(\"Prediction: \",label_names[str(index[i][4])])\n",
    "        print(\"Correct: \", test_images[i])\n",
    "        i += 1\n",
    "\n",
    "#         print(label_names[str(np.argmax(p))])\n",
    "    #for each prediction in predictions, sess.run(tf.nn.top_k(prediction, 1))"
   ]
  },
  {
   "cell_type": "markdown",
   "metadata": {},
   "source": [
    "### Question 8\n",
    "\n",
    "*Use the model's softmax probabilities to visualize the **certainty** of its predictions, [`tf.nn.top_k`](https://www.tensorflow.org/versions/r0.11/api_docs/python/nn.html#top_k) could prove helpful here. Which predictions is the model certain of? Uncertain? If the model was incorrect in its initial prediction, does the correct prediction appear in the top k? (k should be 5 at most)*\n"
   ]
  },
  {
   "cell_type": "markdown",
   "metadata": {},
   "source": [
    "**Answer:**\n",
    "\n",
    "The model was not really certain of any prediction. It was heavily biased towards things it was trained more intensely on, in particular the speed limit signs. The correct predictions don't appear anywhere near the top. We can see that none of the certainties go over 50%. In this sense, we can see the model is accurate, in that it is wrong."
   ]
  },
  {
   "cell_type": "markdown",
   "metadata": {},
   "source": [
    "### Question 9\n",
    "_If necessary, provide documentation for how an interface was built for your model to load and classify newly-acquired images._\n"
   ]
  },
  {
   "cell_type": "markdown",
   "metadata": {},
   "source": [
    "**Answer:**"
   ]
  },
  {
   "cell_type": "markdown",
   "metadata": {},
   "source": [
    "> **Note**: Once you have completed all of the code implementations and successfully answered each question above, you may finalize your work by exporting the iPython Notebook as an HTML document. You can do this by using the menu above and navigating to  \\n\",\n",
    "    \"**File -> Download as -> HTML (.html)**. Include the finished document along with this notebook as your submission."
   ]
  },
  {
   "cell_type": "code",
   "execution_count": null,
   "metadata": {
    "collapsed": true
   },
   "outputs": [],
   "source": []
  },
  {
   "cell_type": "code",
   "execution_count": null,
   "metadata": {
    "collapsed": true
   },
   "outputs": [],
   "source": []
  }
 ],
 "metadata": {
  "anaconda-cloud": {},
  "kernelspec": {
   "display_name": "Python 3",
   "language": "python",
   "name": "python3"
  },
  "language_info": {
   "codemirror_mode": {
    "name": "ipython",
    "version": 3
   },
   "file_extension": ".py",
   "mimetype": "text/x-python",
   "name": "python",
   "nbconvert_exporter": "python",
   "pygments_lexer": "ipython3",
   "version": "3.5.2"
  },
  "widgets": {
   "state": {},
   "version": "1.1.2"
  }
 },
 "nbformat": 4,
 "nbformat_minor": 1
}
