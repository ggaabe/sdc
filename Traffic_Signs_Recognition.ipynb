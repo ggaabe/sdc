{
 "cells": [
  {
   "cell_type": "markdown",
   "metadata": {},
   "source": [
    "# Self-Driving Car Engineer Nanodegree\n",
    "\n",
    "## Deep Learning\n",
    "\n",
    "## Project: Build a Traffic Sign Recognition Classifier\n",
    "\n",
    "In this notebook, a template is provided for you to implement your functionality in stages which is required to successfully complete this project. If additional code is required that cannot be included in the notebook, be sure that the Python code is successfully imported and included in your submission, if necessary. Sections that begin with **'Implementation'** in the header indicate where you should begin your implementation for your project. Note that some sections of implementation are optional, and will be marked with **'Optional'** in the header.\n",
    "\n",
    "In addition to implementing code, there will be questions that you must answer which relate to the project and your implementation. Each section where you will answer a question is preceded by a **'Question'** header. Carefully read each question and provide thorough answers in the following text boxes that begin with **'Answer:'**. Your project submission will be evaluated based on your answers to each of the questions and the implementation you provide.\n",
    "\n",
    ">**Note:** Code and Markdown cells can be executed using the **Shift + Enter** keyboard shortcut. In addition, Markdown cells can be edited by typically double-clicking the cell to enter edit mode."
   ]
  },
  {
   "cell_type": "markdown",
   "metadata": {},
   "source": [
    "---\n",
    "\n",
    "## Step 1: Dataset Exploration\n",
    "\n",
    "Visualize the German Traffic Signs Dataset. This is open ended, some suggestions include: plotting traffic signs images, plotting the count of each sign, etc. Be creative!\n",
    "\n",
    "\n",
    "The pickled data is a dictionary with 4 key/value pairs:\n",
    "\n",
    "- features -> the images pixel values, (width, height, channels)\n",
    "- labels -> the label of the traffic sign\n",
    "- sizes -> the original width and height of the image, (width, height)\n",
    "- coords -> coordinates of a bounding box around the sign in the image, (x1, y1, x2, y2). Based the original image (not the resized version)."
   ]
  },
  {
   "cell_type": "code",
   "execution_count": 3,
   "metadata": {
    "collapsed": false
   },
   "outputs": [],
   "source": [
    "# Load pickled data\n",
    "import pickle\n",
    "\n",
    "# TODO: fill this in based on where you saved the training and testing data\n",
    "training_file = 'traffic-signs-data/train.p'\n",
    "testing_file = 'traffic-signs-data/test.p'\n",
    "\n",
    "with open(training_file, mode='rb') as f:\n",
    "    train = pickle.load(f)\n",
    "with open(testing_file, mode='rb') as f:\n",
    "    test = pickle.load(f)\n",
    "    \n",
    "X_train, y_train = train['features'], train['labels']\n",
    "X_test, y_test = test['features'], test['labels']"
   ]
  },
  {
   "cell_type": "code",
   "execution_count": 4,
   "metadata": {
    "collapsed": false
   },
   "outputs": [
    {
     "name": "stdout",
     "output_type": "stream",
     "text": [
      "Number of training examples = 39209\n",
      "Number of testing examples = 12630\n",
      "Image data shape = (39209, 32, 32, 3)\n",
      "Number of classes = 43\n"
     ]
    }
   ],
   "source": [
    "### To start off let's do a basic data summary.\n",
    "\n",
    "# TODO: number of training examples\n",
    "n_train = len(X_train)\n",
    "\n",
    "# TODO: number of testing examples\n",
    "n_test = len(X_test)\n",
    "\n",
    "# TODO: what's the shape of an image?\n",
    "image_shape = X_train.shape\n",
    "\n",
    "# TODO: how many classes are in the dataset\n",
    "n_classes = len(set(train['labels']))\n",
    "\n",
    "print(\"Number of training examples =\", n_train)\n",
    "print(\"Number of testing examples =\", n_test)\n",
    "print(\"Image data shape =\", image_shape)\n",
    "print(\"Number of classes =\", n_classes)"
   ]
  },
  {
   "cell_type": "code",
   "execution_count": 5,
   "metadata": {
    "collapsed": false
   },
   "outputs": [],
   "source": [
    "### Data exploration visualization goes here.\n",
    "### Feel free to use as many code cells as needed.\n",
    "import matplotlib.pyplot as plt\n",
    "def plot_images(images, cls_true, cls_pred=None):\n",
    "    assert len(images) == len(cls_true) == 9\n",
    "    \n",
    "    # Create figure with 3x3 sub-plots.\n",
    "    fig, axes = plt.subplots(3, 3)\n",
    "    fig.subplots_adjust(hspace=0.3, wspace=0.3)\n",
    "\n",
    "    for i, ax in enumerate(axes.flat):\n",
    "        # Plot image.\n",
    "        ax.imshow(images[i].reshape(img_shape), cmap='binary')\n",
    "\n",
    "        # Show true and predicted classes.\n",
    "        if cls_pred is None:\n",
    "            xlabel = \"True: {0}\".format(cls_true[i])\n",
    "        else:\n",
    "            xlabel = \"True: {0}, Pred: {1}\".format(cls_true[i], cls_pred[i])\n",
    "\n",
    "        # Show the classes as the label on the x-axis.\n",
    "        ax.set_xlabel(xlabel)\n",
    "        \n",
    "        # Remove ticks from the plot.\n",
    "        ax.set_xticks([])\n",
    "        ax.set_yticks([])\n",
    "    \n",
    "    # Ensure the plot is shown correctly with multiple plots\n",
    "    # in a single Notebook cell.\n",
    "    plt.show()\n",
    "# plot_images(X_train[0:9], X_train[0:9])"
   ]
  },
  {
   "cell_type": "markdown",
   "metadata": {},
   "source": [
    "----\n",
    "\n",
    "## Step 2: Design and Test a Model Architecture\n",
    "\n",
    "Design and implement a deep learning model that learns to recognize traffic signs. Train and test your model on the [German Traffic Sign Dataset](http://benchmark.ini.rub.de/?section=gtsrb&subsection=dataset).\n",
    "\n",
    "There are various aspects to consider when thinking about this problem:\n",
    "\n",
    "- Your model can be derived from a deep feedforward net or a deep convolutional network.\n",
    "- Play around preprocessing techniques (normalization, rgb to grayscale, etc)\n",
    "- Number of examples per label (some have more than others).\n",
    "- Generate fake data.\n",
    "\n",
    "Here is an example of a [published baseline model on this problem](http://yann.lecun.com/exdb/publis/pdf/sermanet-ijcnn-11.pdf). It's not required to be familiar with the approach used in the paper but, it's good practice to try to read papers like these."
   ]
  },
  {
   "cell_type": "markdown",
   "metadata": {},
   "source": [
    "### Implementation\n",
    "\n",
    "Use the code cell (or multiple code cells, if necessary) to implement the first step of your project. Once you have completed your implementation and are satisfied with the results, be sure to thoroughly answer the questions that follow."
   ]
  },
  {
   "cell_type": "code",
   "execution_count": 6,
   "metadata": {
    "collapsed": false,
    "scrolled": false
   },
   "outputs": [
    {
     "name": "stdout",
     "output_type": "stream",
     "text": [
      "woo\n"
     ]
    }
   ],
   "source": [
    "### Preprocess the data here.\n",
    "### Feel free to use as many code cells as needed.\n",
    "import numpy as np\n",
    "import tensorflow as tf\n",
    "import cv2\n",
    "\n",
    "\n",
    "X_train = X_train.astype('float32')\n",
    "X_test = X_test.astype('float32')\n",
    "#could also do cv2.grayscale right here\n",
    "X_train_gray = np.empty((0, 32, 32, 1))\n",
    "\n",
    "#     print (img.shape)\n",
    "image = cv2.cvtColor(X_train[0], cv2.COLOR_RGB2GRAY)\n",
    "#     print('test')\n",
    "plt.figure()\n",
    "plt.imshow(image)\n",
    "    \n",
    "print ('woo')\n",
    "    \n",
    "#     numpy.append(X_train_gray, image, axis=0)\n",
    "X_train /= 255 #normalizing data\n",
    "X_test /= 255\n",
    "\n",
    "\n",
    "# greyscale_X = tf.image.rgb_to_grayscale(X_train)\n",
    "\n",
    "\n"
   ]
  },
  {
   "cell_type": "markdown",
   "metadata": {},
   "source": [
    "### Question 1 \n",
    "\n",
    "_Describe the techniques used to preprocess the data._"
   ]
  },
  {
   "cell_type": "markdown",
   "metadata": {},
   "source": [
    "**Answer:** The data is normalized on a scale of 0-1 while retaining its color properties."
   ]
  },
  {
   "cell_type": "code",
   "execution_count": 7,
   "metadata": {
    "collapsed": true
   },
   "outputs": [],
   "source": [
    "### Generate data additional (if you want to!)\n",
    "### and split the data into training/validation/testing sets here.\n",
    "### Feel free to use as many code cells as needed."
   ]
  },
  {
   "cell_type": "markdown",
   "metadata": {},
   "source": [
    "### Question 2\n",
    "\n",
    "_Describe how you set up the training, validation and testing data for your model. If you generated additional data, why?_"
   ]
  },
  {
   "cell_type": "markdown",
   "metadata": {},
   "source": [
    "**Answer:**"
   ]
  },
  {
   "cell_type": "code",
   "execution_count": 8,
   "metadata": {
    "collapsed": false
   },
   "outputs": [
    {
     "name": "stdout",
     "output_type": "stream",
     "text": [
      "3072\n"
     ]
    }
   ],
   "source": [
    "### Define your architecture here.\n",
    "### Feel free to use as many code cells as needed.\n",
    "\n",
    "init = tf.initialize_all_variables()\n",
    "batches = 64\n",
    "\n",
    "inputShape = X_train[0].shape[0] *  X_train[0].shape[1] *  X_train[0].shape[2]\n",
    "print (inputShape)\n",
    "def architecture(x):\n",
    "    WeightConv1 = tf.Variable(tf.truncated_normal(shape=(5,5,3,6)))\n",
    "    WeightBias1 = tf.Variable(tf.constant(0.0, shape=(6,)))\n",
    "    conv1 = tf.nn.conv2d(x, WeightConv1, strides=[1,1,1,1], padding='VALID') + WeightBias1\n",
    "    \n",
    "    conv1 = tf.nn.relu(conv1)\n",
    "    \n",
    "    conv1 = tf.nn.max_pool(conv1, ksize=[1,2,2,1], strides=[1,2,2,1], padding='VALID')\n",
    "    \n",
    "    conv2_W = tf.Variable(tf.truncated_normal(shape=(5,5,6,16)))\n",
    "    conv2_b = tf.Variable(tf.constant(0.0, shape=(16,)))\n",
    "    conv2 = tf.nn.conv2(conv1, conv2_W, strides=[1,1,1,1], padding='VALID') + conv2_b\n",
    "    conv2 = tf.nn.relu(conv2)\n",
    "    conv2 = tf.nn.max_pool(conv1, ksize=[1,2,2,1], strides=[1,2,2,1], padding='VALID')\n",
    "    \n",
    "    fc1 = flatten(conv2)\n",
    "    \n",
    "    fc1_shape = (fc1.get_shape().as_list()[-1], 120)\n",
    "    \n",
    "    fc1_W = tf.Variable(tf.truncated_normal(shape=(fc1_shape)))\n",
    "    fc1_b = tf.Variable(tf.constant(0.0, shape=(120,)))\n",
    "    fc1 = tf.matmul(fc1, fc1_W) + fc1_b\n",
    "    fc1 = tf.nn.relu(fc1)\n",
    "    \n",
    "    fc2_W = tf.Variable(tf.truncated_normal(shape=(120, 43)))\n",
    "    fc2_b = tf.Variable(tf.constant(0.0, shape=(43,)))\n",
    "    return tf.matmul(fc1, fc2_W) + fc2_b\n",
    "\n",
    "    \n",
    "    \n",
    "\n"
   ]
  },
  {
   "cell_type": "markdown",
   "metadata": {},
   "source": [
    "### Question 3\n",
    "\n",
    "_What does your final architecture look like? (Type of model, layers, sizes, connectivity, etc.)  For reference on how to build a deep neural network using TensorFlow, see [Deep Neural Network in TensorFlow\n",
    "](https://classroom.udacity.com/nanodegrees/nd013/parts/fbf77062-5703-404e-b60c-95b78b2f3f9e/modules/6df7ae49-c61c-4bb2-a23e-6527e69209ec/lessons/b516a270-8600-4f93-a0a3-20dfeabe5da6/concepts/83a3a2a2-a9bd-4b7b-95b0-eb924ab14432) from the classroom._\n"
   ]
  },
  {
   "cell_type": "markdown",
   "metadata": {},
   "source": [
    "**Answer:** Input –> Conv –> Relu –> Max Pool –> Conv –> –> Relu –> Max Pool"
   ]
  },
  {
   "cell_type": "code",
   "execution_count": 13,
   "metadata": {
    "collapsed": false,
    "scrolled": true
   },
   "outputs": [
    {
     "name": "stdout",
     "output_type": "stream",
     "text": [
      "<bound method Tensor.get_shape of <tf.Tensor 'features_4:0' shape=(?, 32, 32, 3) dtype=float32>>\n",
      "<bound method Tensor.get_shape of <tf.Tensor 'features_4:0' shape=(?, 32, 32, 3) dtype=float32>>\n",
      "Tensor(\"strided_slice:0\", shape=(43,), dtype=float32)\n",
      "Epoch: 0001 cost= 0.625846565\n",
      "Model Saved\n",
      "Epoch: 0002 cost= 0.119745657\n",
      "Model Saved\n",
      "Epoch: 0003 cost= 0.038069177\n",
      "Model Saved\n",
      "Epoch: 0004 cost= 0.015170537\n",
      "Model Saved\n",
      "Epoch: 0005 cost= 0.011295682\n",
      "Model Saved\n",
      "Epoch: 0006 cost= 0.035603128\n",
      "Model Saved\n",
      "Epoch: 0007 cost= 0.006264448\n",
      "Model Saved\n",
      "Epoch: 0008 cost= 0.004676620\n",
      "Model Saved\n",
      "Epoch: 0009 cost= 0.005538380\n",
      "Model Saved\n",
      "Epoch: 0010 cost= 0.005097918\n",
      "Model Saved\n",
      "Optimization Finished!\n",
      "Accuracy: 0.931829\n"
     ]
    }
   ],
   "source": [
    "## Train your model here.\n",
    "### Feel free to use as many code cells as needed.\n",
    "from sklearn.model_selection import train_test_split\n",
    "# x = tf.placeholder(tf.float32, (None, inputShape))\n",
    "# # Classify over 10 digits 0-9.\n",
    "# y = tf.placeholder(tf.float32, (None, 43))\n",
    "# # Create the LeNet.\n",
    "# fc2 = architecture(x)\n",
    "\n",
    "# loss_op = tf.reduce_mean(tf.nn.softmax_cross_entropy_with_logits(fc2, y))\n",
    "# opt = tf.train.AdamOptimizer()\n",
    "# train_op = opt.minimize(loss_op)\n",
    "# correct_prediction = tf.equal(tf.argmax(fc2, 1), tf.argmax(y, 1))\n",
    "# accuracy_op = tf.reduce_mean(tf.cast(correct_prediction, tf.float32))\n",
    "\n",
    "X_train, X_val, y_train, y_val = train_test_split(train['features'], train['labels'], test_size=0.05, random_state=0)\n",
    "X_test, y_test = test['features'], test['labels']\n",
    "X_train = X_train.astype('float32')\n",
    "X_val = X_val.astype('float32')\n",
    "X_test = X_test.astype('float32')\n",
    "\n",
    "# 0-255 -> 0-1\n",
    "X_train /= 255\n",
    "X_val /= 255\n",
    "X_test /= 255\n",
    "\n",
    "batch_size = 64\n",
    "# number of traffic signs\n",
    "n_classes = 43\n",
    "epochs = 10\n",
    "epoch = 0\n",
    "input_shape = X_train.shape[1:]\n",
    "learning_rate = 0.05\n",
    "feature_size = 32*32*3\n",
    "\n",
    "\n",
    "layer_width = {\n",
    "    'layer_1': 100,\n",
    "    'layer_2': 150,\n",
    "    'layer_3': 250,\n",
    "    'fully_connected': 300\n",
    "}\n",
    "\n",
    "weights = {\n",
    "    'layer_1': tf.Variable(tf.truncated_normal(\n",
    "        [7, 7, 3, layer_width['layer_1']])),\n",
    "    'layer_2': tf.Variable(tf.truncated_normal(\n",
    "        [2, 2, layer_width['layer_1'], layer_width['layer_2']])),\n",
    "    'layer_3': tf.Variable(tf.truncated_normal(\n",
    "        [4, 4, layer_width['layer_2'], layer_width['layer_3']])),\n",
    "    'fully_connected': tf.Variable(tf.truncated_normal(\n",
    "        [4 * 4 * 250, layer_width['fully_connected']])),\n",
    "    'out': tf.Variable(tf.truncated_normal(\n",
    "        [layer_width['fully_connected'], n_classes]))\n",
    "}\n",
    "\n",
    "biases = {\n",
    "    'layer_1': tf.Variable(tf.zeros(layer_width['layer_1'])),\n",
    "    'layer_2': tf.Variable(tf.zeros(layer_width['layer_2'])),\n",
    "    'layer_3': tf.Variable(tf.zeros(layer_width['layer_3'])),\n",
    "    'fully_connected': tf.Variable(tf.zeros(layer_width['fully_connected'])),\n",
    "    'out': tf.Variable(tf.zeros(n_classes))\n",
    "}\n",
    "\n",
    "def conv2d(x, W, b, strides=1):\n",
    "    # Conv2D wrapper, with bias and relu activation\n",
    "    x = tf.nn.conv2d(x, W, strides=[1, strides, strides, 1], padding='SAME')\n",
    "    x = tf.nn.bias_add(x, b)\n",
    "    return tf.nn.relu(x)\n",
    "\n",
    "def new_weights(shape):\n",
    "    return tf.Variable(tf.truncated_normal(shape, stddev=0.05))\n",
    "def new_biases(length):\n",
    "    return tf.Variable(tf.constant(0.05, shape=[length]))\n",
    "def conv_layer(input_layer,\n",
    "               num_input_channels,\n",
    "               kernel_size,\n",
    "               num_filters,\n",
    "               padding = 'VALID',\n",
    "               use_pooling=True):\n",
    "\n",
    "    shape = [kernel_size, kernel_size, num_input_channels, num_filters]\n",
    "\n",
    "    weights = new_weights(shape=shape)\n",
    "    biases = new_biases(length=num_filters)\n",
    "\n",
    "    layer = tf.nn.conv2d(input=input_layer,\n",
    "                         filter=weights,\n",
    "                         strides=[1, 1, 1, 1],\n",
    "                         padding=padding)\n",
    "\n",
    "    layer += biases\n",
    "    if use_pooling:\n",
    "        layer = tf.nn.max_pool(value=layer,\n",
    "                               ksize=[1, 2, 2, 1],\n",
    "                               strides=[1, 2, 2, 1],\n",
    "                               padding=padding)\n",
    "    layer = tf.nn.relu(layer)\n",
    "    return layer\n",
    "\n",
    "def fc_layer(input_layer,\n",
    "            num_inputs,\n",
    "            num_outputs,\n",
    "            use_relu=True):\n",
    "\n",
    "    weights = new_weights(shape=[num_inputs, num_outputs])\n",
    "    biases = new_biases(length=num_outputs)\n",
    "    layer = tf.matmul(input_layer, weights) + biases\n",
    "\n",
    "    if use_relu:\n",
    "        layer = tf.nn.relu(layer)\n",
    "\n",
    "    return layer\n",
    "\n",
    "def maxpool2d(x, k=2):\n",
    "    return tf.nn.max_pool(\n",
    "        x,\n",
    "        ksize=[1, k, k, 1],\n",
    "        strides=[1, k, k, 1],\n",
    "        padding='SAME')\n",
    "\n",
    "def conv_net(x, weights, biases):\n",
    "    # Layer 1 - 28*28*1 to 14*14*32\n",
    "    #new layer 1 – 32 * 32 * 3 –> 16 * 16 * 100\n",
    "    conv1 = conv2d(x, weights['layer_1'], biases['layer_1'])\n",
    "    print(conv1.get_shape)\n",
    "    conv1 = maxpool2d(conv1)\n",
    "\n",
    "    # Layer 2 - 14*14*32 to 7*7*64\n",
    "    #new layer 2 – 16 * 16 * 100 –> 8 * 8 * 150\n",
    "    conv2 = conv2d(conv1, weights['layer_2'], biases['layer_2'])\n",
    "    print(conv2.get_shape)\n",
    "    conv2 = maxpool2d(conv2)\n",
    "\n",
    "    # Layer 3 - 7*7*64 to 4*4*128\n",
    "    #new layer 3 – 8 * 8 * 150 –> 4 * 4 * 250\n",
    "    conv3 = conv2d(conv2, weights['layer_3'], biases['layer_3'])\n",
    "    conv3 = maxpool2d(conv3)\n",
    "\n",
    "    # Fully connected layer - 4*4*128 to 512\n",
    "    # Reshape conv3 output to fit fully connected layer input\n",
    "    fc1 = tf.reshape(\n",
    "        conv3,\n",
    "        [-1, weights['fully_connected'].get_shape().as_list()[0]])\n",
    "    fc1 = tf.add(\n",
    "        tf.matmul(fc1, weights['fully_connected']),\n",
    "        biases['fully_connected'])\n",
    "    fc1 = tf.nn.tanh(fc1)\n",
    "\n",
    "    # Output Layer - class prediction - 512 to 10\n",
    "    out = tf.add(tf.matmul(fc1, weights['out']), biases['out'])\n",
    "    return out\n",
    "\n",
    "def dense_to_one_hot(labels, n_classes):\n",
    "    labels = np.array(labels)\n",
    "    n_labels = labels.shape[0]\n",
    "    index_offset = np.arange(n_labels) * n_classes\n",
    "    labels_one_hot = np.zeros((n_labels, n_classes), dtype=np.float32)\n",
    "    labels_one_hot.flat[index_offset + labels.ravel()] = 1\n",
    "    return labels_one_hot\n",
    "\n",
    "def flatten_layer(layer):\n",
    "    layer_shape = layer.get_shape()\n",
    "    num_features = layer_shape[1:4].num_elements()\n",
    "    layer_flat = tf.reshape(layer, [-1, num_features])\n",
    "    return layer_flat, num_features\n",
    "\n",
    "y_train = dense_to_one_hot(y_train, n_classes)\n",
    "\n",
    "feature_size = 32*32*3\n",
    "\n",
    "W1 = tf.Variable(tf.random_normal((feature_size, 100), mean=0, stddev=0.01) , name=\"W1\")\n",
    "W2 = tf.Variable(tf.random_normal((100, n_classes), mean=0, stddev=0.01) , name=\"W2\")\n",
    "\n",
    "b1 = tf.Variable(tf.zeros((100)) , name=\"b1\")\n",
    "b2 = tf.Variable(tf.zeros((n_classes)) , name=\"b2\")\n",
    "\n",
    "features = tf.placeholder(tf.float32, (None, 32,32,3), name=\"features\")\n",
    "labels = tf.placeholder(tf.int64, (None), name=\"labels\")\n",
    "print(features.get_shape)\n",
    "# features = tf.reshape(features, [features[0], 32,32,3], name=\"features\")\n",
    "print(features.get_shape)\n",
    "\n",
    "def DNN(X):\n",
    "    layer_1 = conv_layer(input_layer=features,\n",
    "                         num_input_channels=3,\n",
    "                         kernel_size=7,\n",
    "                         num_filters=100,\n",
    "                         padding = 'VALID',\n",
    "                         use_pooling=True\n",
    "                         )\n",
    "\n",
    "    layer_2 = conv_layer(input_layer=layer_1,\n",
    "                         num_input_channels=100,\n",
    "                         kernel_size=4,\n",
    "                         num_filters=150,\n",
    "                         padding = 'VALID',\n",
    "                         use_pooling=True\n",
    "                         )\n",
    "    layer_3 = conv_layer(input_layer=layer_2,\n",
    "                         num_input_channels=150,\n",
    "                         kernel_size=4,\n",
    "                         num_filters=250,\n",
    "                         padding = 'VALID',\n",
    "                         use_pooling=True\n",
    "                         )\n",
    "\n",
    "    layer_3_flat, layer_3_flat_count = flatten_layer(layer_3)\n",
    "\n",
    "    layer_4 = fc_layer(input_layer = layer_3_flat,\n",
    "                       num_inputs = layer_3_flat_count,\n",
    "                       num_outputs = 300,\n",
    "                       use_relu=True)\n",
    "\n",
    "    layer_4 = tf.nn.dropout(layer_4, keep_prob=0.5)\n",
    "\n",
    "    layer_5 = fc_layer(input_layer=layer_4,\n",
    "                       num_inputs=300,\n",
    "                       num_outputs=n_classes,\n",
    "                       use_relu=True)\n",
    "    return layer_5\n",
    "\n",
    "#====from sec.29\n",
    "# logits = conv_net(features, weights, biases)\n",
    "logits = DNN(features)\n",
    "# Define loss and optimizer\n",
    "print(logits[1])\n",
    "cost = tf.reduce_mean(tf.nn.softmax_cross_entropy_with_logits(logits, labels))\n",
    "optimizer = tf.train.GradientDescentOptimizer(learning_rate=learning_rate).minimize(cost)\n",
    "#=====\n",
    "saver = tf.train.Saver()\n",
    "\n",
    "with tf.Session() as sess:\n",
    "    sess.run(tf.initialize_all_variables())\n",
    "    for i in range(epochs):\n",
    "        for offset in range(0, X_train.shape[0], batch_size):\n",
    "#             print(\"Training images \", offset, \" through \", offset+batch_size)\n",
    "            end = offset + batch_size\n",
    "            batch_X = X_train[offset:end]\n",
    "            batch_y = y_train[offset:end]\n",
    "#             print(batch_y.shape)\n",
    "            bs = batch_X.shape[0]\n",
    "#             print (bs)\n",
    "#             batch_X = batch_X.reshape(bs, feature_size)\n",
    "            batch_X = batch_X.reshape(bs, 32,32,3)\n",
    "#             batch_y = batch_y.reshape(bs, n_classes)\n",
    "            label_ones = np.zeros(shape=(64,43))\n",
    "#         for label in range(len(batch_y)):\n",
    "#               label_ones[label][batch_y[label]] = 1\n",
    "            if(batch_X.shape[0] < 64):\n",
    "                break\n",
    "            sess.run(optimizer, feed_dict={features: batch_X, labels: batch_y})\n",
    "\n",
    "#         val_l, val_acc = sess.run([loss, accuracy], feed_dict={features: X_val.reshape(X_val.shape[0], feature_size), labels: y_val})\n",
    "        c = sess.run(cost, feed_dict={features: batch_X, labels: batch_y})\n",
    "        print(\"Epoch:\", '%04d' % (epoch+1), \"cost=\", \"{:.9f}\".format(c))\n",
    "        saver.save(sess, 'traffic-signs-model')\n",
    "        print(\"Model Saved\")\n",
    "        epoch += 1\n",
    "#         print(\"Validation\tAccuracy =\", val_acc)\n",
    "    print(\"Optimization Finished!\")\n",
    "\n",
    "\n",
    "#     test_l, test_acc = sess.run([loss, accuracy], feed_dict={features: X_test.reshape(X_test.shape[0], feature_size), labels: y_test})\n",
    "#     print(\"Testing\tLoss =\", test_l)\n",
    "#     print(\"Testing\tAccuracy =\", test_acc)\n",
    "  # Test model\n",
    "    correct_prediction = tf.equal(tf.argmax(logits, 1), tf.argmax(labels, 1))\n",
    "    # Calculate accuracy\n",
    "    y_test_matrix = dense_to_one_hot(y_test, n_classes)\n",
    "    accuracy = tf.reduce_mean(tf.cast(correct_prediction, \"float\"))\n",
    "    \n",
    "    print(\"Accuracy:\",accuracy.eval({features: X_test, labels: y_test_matrix}))\n",
    "    "
   ]
  },
  {
   "cell_type": "code",
   "execution_count": 28,
   "metadata": {
    "collapsed": false,
    "scrolled": false
   },
   "outputs": [
    {
     "name": "stdout",
     "output_type": "stream",
     "text": [
      "<tensorflow.python.training.saver.Saver object at 0x14e37ab00>\n",
      "[[  1.53340241e-09   3.28016947e-10   5.18081342e-11   3.48756718e-11\n",
      "    1.94896508e-12   1.24729904e-09   1.94896508e-12   1.94896508e-12\n",
      "    9.24529828e-11   9.97161020e-10   1.67169421e-11   2.93094867e-12\n",
      "    3.74437281e-09   7.86877730e-10   9.99999642e-01   1.19069988e-11\n",
      "    1.13711028e-11   1.54715227e-08   1.94896508e-12   1.94896508e-12\n",
      "    1.94896508e-12   1.16643639e-11   5.03071543e-11   1.94896508e-12\n",
      "    1.94896508e-12   4.02261363e-10   5.76296025e-11   1.94896508e-12\n",
      "    5.15120412e-11   2.98245453e-07   1.94896508e-12   1.94896508e-12\n",
      "    1.16036361e-10   1.94896508e-12   6.31329841e-12   1.94896508e-12\n",
      "    1.94896508e-12   3.14576273e-12   1.94896508e-12   1.94896508e-12\n",
      "    1.49369225e-10   4.82120550e-12   9.03295234e-12]]\n",
      "[[14]]\n"
     ]
    }
   ],
   "source": [
    "# print(\"Accuracy: \",accuracy.eval(session=sess, feed_dict={features: X_test, labels: y_test}))\n",
    "import matplotlib.image as mpimg\n",
    "\n",
    "new_test = []\n",
    "image = cv2.cvtColor(mpimg.imread('stop.png'), cv2.COLOR_BGRA2BGR)\n",
    "new_test.append(image)\n",
    "\n",
    "with tf.Session() as sess:\n",
    "    new_saver = tf.train.import_meta_graph(\"traffic-signs-model.meta\")\n",
    "    new_saver.restore(sess, tf.train.latest_checkpoint('./'))\n",
    "    print (new_saver)\n",
    "    prediction = tf.nn.softmax(logits)\n",
    "    print(sess.run(prediction, {features: new_test}))\n",
    "    values, index = sess.run(tf.nn.top_k(prediction, 1), feed_dict={features: new_test})\n",
    "    print(index)\n",
    "    "
   ]
  },
  {
   "cell_type": "markdown",
   "metadata": {},
   "source": [
    "### Question 4\n",
    "\n",
    "_How did you train your model? (Type of optimizer, batch size, epochs, hyperparameters, etc.)_\n"
   ]
  },
  {
   "cell_type": "markdown",
   "metadata": {},
   "source": [
    "**Answer:**"
   ]
  },
  {
   "cell_type": "markdown",
   "metadata": {},
   "source": [
    "### Question 5\n",
    "\n",
    "\n",
    "_What approach did you take in coming up with a solution to this problem?_"
   ]
  },
  {
   "cell_type": "markdown",
   "metadata": {},
   "source": [
    "**Answer:**"
   ]
  },
  {
   "cell_type": "markdown",
   "metadata": {},
   "source": [
    "---\n",
    "\n",
    "## Step 3: Test a Model on New Images\n",
    "\n",
    "Take several pictures of traffic signs that you find on the web or around you (at least five), and run them through your classifier on your computer to produce example results. The classifier might not recognize some local signs but it could prove interesting nonetheless.\n",
    "\n",
    "You may find `signnames.csv` useful as it contains mappings from the class id (integer) to the actual sign name."
   ]
  },
  {
   "cell_type": "markdown",
   "metadata": {},
   "source": [
    "### Implementation\n",
    "\n",
    "Use the code cell (or multiple code cells, if necessary) to implement the first step of your project. Once you have completed your implementation and are satisfied with the results, be sure to thoroughly answer the questions that follow."
   ]
  },
  {
   "cell_type": "code",
   "execution_count": null,
   "metadata": {
    "collapsed": true
   },
   "outputs": [],
   "source": [
    "### Load the images and plot them here.\n",
    "### Feel free to use as many code cells as needed."
   ]
  },
  {
   "cell_type": "markdown",
   "metadata": {},
   "source": [
    "### Question 6\n",
    "\n",
    "_Choose five candidate images of traffic signs and provide them in the report. Are there any particular qualities of the image(s) that might make classification difficult? It would be helpful to plot the images in the notebook._\n",
    "\n"
   ]
  },
  {
   "cell_type": "markdown",
   "metadata": {},
   "source": [
    "**Answer:**"
   ]
  },
  {
   "cell_type": "code",
   "execution_count": null,
   "metadata": {
    "collapsed": true
   },
   "outputs": [],
   "source": [
    "### Run the predictions here.\n",
    "### Feel free to use as many code cells as needed."
   ]
  },
  {
   "cell_type": "markdown",
   "metadata": {},
   "source": [
    "### Question 7\n",
    "\n",
    "_Is your model able to perform equally well on captured pictures or a live camera stream when compared to testing on the dataset?_\n"
   ]
  },
  {
   "cell_type": "markdown",
   "metadata": {},
   "source": [
    "**Answer:**"
   ]
  },
  {
   "cell_type": "code",
   "execution_count": null,
   "metadata": {
    "collapsed": true
   },
   "outputs": [],
   "source": [
    "### Visualize the softmax probabilities here.\n",
    "### Feel free to use as many code cells as needed."
   ]
  },
  {
   "cell_type": "markdown",
   "metadata": {},
   "source": [
    "### Question 8\n",
    "\n",
    "*Use the model's softmax probabilities to visualize the **certainty** of its predictions, [`tf.nn.top_k`](https://www.tensorflow.org/versions/r0.11/api_docs/python/nn.html#top_k) could prove helpful here. Which predictions is the model certain of? Uncertain? If the model was incorrect in its initial prediction, does the correct prediction appear in the top k? (k should be 5 at most)*\n"
   ]
  },
  {
   "cell_type": "markdown",
   "metadata": {},
   "source": [
    "**Answer:**"
   ]
  },
  {
   "cell_type": "markdown",
   "metadata": {},
   "source": [
    "### Question 9\n",
    "_If necessary, provide documentation for how an interface was built for your model to load and classify newly-acquired images._\n"
   ]
  },
  {
   "cell_type": "markdown",
   "metadata": {},
   "source": [
    "**Answer:**"
   ]
  },
  {
   "cell_type": "markdown",
   "metadata": {},
   "source": [
    "> **Note**: Once you have completed all of the code implementations and successfully answered each question above, you may finalize your work by exporting the iPython Notebook as an HTML document. You can do this by using the menu above and navigating to  \\n\",\n",
    "    \"**File -> Download as -> HTML (.html)**. Include the finished document along with this notebook as your submission."
   ]
  },
  {
   "cell_type": "code",
   "execution_count": null,
   "metadata": {
    "collapsed": true
   },
   "outputs": [],
   "source": []
  },
  {
   "cell_type": "code",
   "execution_count": null,
   "metadata": {
    "collapsed": true
   },
   "outputs": [],
   "source": []
  }
 ],
 "metadata": {
  "anaconda-cloud": {},
  "kernelspec": {
   "display_name": "Python 3",
   "language": "python",
   "name": "python3"
  },
  "language_info": {
   "codemirror_mode": {
    "name": "ipython",
    "version": 3
   },
   "file_extension": ".py",
   "mimetype": "text/x-python",
   "name": "python",
   "nbconvert_exporter": "python",
   "pygments_lexer": "ipython3",
   "version": "3.5.2"
  }
 },
 "nbformat": 4,
 "nbformat_minor": 1
}
